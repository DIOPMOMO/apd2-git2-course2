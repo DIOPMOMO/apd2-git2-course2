{
 "cells": [
  {
   "cell_type": "markdown",
   "id": "a2b80c02",
   "metadata": {},
   "source": [
    "# exo1"
   ]
  },
  {
   "cell_type": "markdown",
   "id": "9447a38b",
   "metadata": {},
   "source": [
    "# exercie 22"
   ]
  },
  {
   "cell_type": "code",
   "execution_count": 3,
   "id": "241409df",
   "metadata": {},
   "outputs": [
    {
     "name": "stdout",
     "output_type": "stream",
     "text": [
      "entrer the first number : 15\n",
      "entrer the second number : 67\n",
      "entrer the third number : 23\n",
      "67 est le max\n"
     ]
    }
   ],
   "source": [
    "n=int(input(\"entrer the first number : \"))\n",
    "s=int(input(\"entrer the second number : \"))\n",
    "f=int(input(\"entrer the third number : \"))\n",
    "if n>s and n>f:\n",
    "    print(n, \"est le max\")\n",
    "if s>n and s>f:\n",
    "    print(s,\"est le max\")\n",
    "if f>n and f>s:\n",
    "    print(f ,\"est le max\")"
   ]
  },
  {
   "cell_type": "code",
   "execution_count": null,
   "id": "98d625ce",
   "metadata": {},
   "outputs": [],
   "source": [
    "h."
   ]
  },
  {
   "cell_type": "markdown",
   "id": "7faab0c1",
   "metadata": {},
   "source": [
    "# exo2"
   ]
  },
  {
   "cell_type": "code",
   "execution_count": 6,
   "id": "3d7f2590",
   "metadata": {},
   "outputs": [
    {
     "name": "stdout",
     "output_type": "stream",
     "text": [
      "entrer la lettre que vous vouler:  f\n",
      "f est un consonne\n"
     ]
    }
   ],
   "source": [
    "j=input(\"entrer la lettre que vous vouler:  \")\n",
    "if j==\"a\" or j==\"i\" or j==\"u\" or j==\"o\" or j==\"e\":\n",
    "    print(j,\"est un voyelle\")\n",
    "else:\n",
    "    print(j,\"est un consonne\")\n",
    "    "
   ]
  },
  {
   "cell_type": "markdown",
   "id": "4af66a07",
   "metadata": {},
   "source": [
    "# exo3"
   ]
  },
  {
   "cell_type": "code",
   "execution_count": 10,
   "id": "e6a2d6d0",
   "metadata": {},
   "outputs": [
    {
     "name": "stdout",
     "output_type": "stream",
     "text": [
      "entrer le numero que vous vouler :7\n",
      "dimanche\n",
      "entrer le numero que vous vouler :5\n",
      "vendredi\n"
     ]
    }
   ],
   "source": [
    "o=int(input(\"entrer le numero que vous vouler :\"))\n",
    "if o==1:\n",
    "    print(\"lundi\")\n",
    "if o==2:\n",
    "    print(\"mardi\")\n",
    "if o==3:\n",
    "    print(\"mercredi\")\n",
    "if o==4:\n",
    "    print(\"jeudi\")\n",
    "if o==5:\n",
    "    print(\"vendredi\")\n",
    "if o==6:\n",
    "    print(\"samedi\")\n",
    "if o==7:\n",
    "    print(\"dimanche\")\n",
    "else :\n",
    "    print(\" veuiller entrer le bon numero :\")\n",
    "o=int(input(\"entrer le numero que vous vouler :\"))\n",
    "if o==1:\n",
    "    print(\"lundi\")\n",
    "if o==2:\n",
    "    print(\"mardi\")\n",
    "if o==3:\n",
    "    print(\"mercredi\")\n",
    "if o==4:\n",
    "    print(\"jeudi\")\n",
    "if o==5:\n",
    "    print(\"vendredi\")\n",
    "if o==6:\n",
    "    print(\"samedi\")\n",
    "if o==7:\n",
    "    print(\"dimanche\")    "
   ]
  },
  {
   "cell_type": "markdown",
   "id": "1a144bde",
   "metadata": {},
   "source": [
    "# exo4"
   ]
  },
  {
   "cell_type": "code",
   "execution_count": 15,
   "id": "fdbda3dc",
   "metadata": {},
   "outputs": [
    {
     "ename": "KeyboardInterrupt",
     "evalue": "Interrupted by user",
     "output_type": "error",
     "traceback": [
      "\u001b[1;31m---------------------------------------------------------------------------\u001b[0m",
      "\u001b[1;31mKeyboardInterrupt\u001b[0m                         Traceback (most recent call last)",
      "\u001b[1;32m<ipython-input-15-602651bcc54f>\u001b[0m in \u001b[0;36m<module>\u001b[1;34m\u001b[0m\n\u001b[1;32m----> 1\u001b[1;33m \u001b[0mprix_fab\u001b[0m\u001b[1;33m=\u001b[0m\u001b[0mint\u001b[0m\u001b[1;33m(\u001b[0m\u001b[0minput\u001b[0m\u001b[1;33m(\u001b[0m\u001b[1;34m\"quelle est le prix de fabrication : \"\u001b[0m\u001b[1;33m)\u001b[0m\u001b[1;33m)\u001b[0m\u001b[1;33m\u001b[0m\u001b[1;33m\u001b[0m\u001b[0m\n\u001b[0m\u001b[0;32m      2\u001b[0m \u001b[0mprix_de_vente\u001b[0m\u001b[1;33m=\u001b[0m\u001b[0mint\u001b[0m\u001b[1;33m(\u001b[0m\u001b[0minput\u001b[0m\u001b[1;33m(\u001b[0m\u001b[1;34m\"quelle est le prix de vente : \"\u001b[0m\u001b[1;33m)\u001b[0m\u001b[1;33m)\u001b[0m\u001b[1;33m\u001b[0m\u001b[1;33m\u001b[0m\u001b[0m\n\u001b[0;32m      3\u001b[0m \u001b[0mprofit\u001b[0m \u001b[1;33m=\u001b[0m \u001b[0mprix_vente\u001b[0m\u001b[1;33m-\u001b[0m\u001b[0mprix_fab\u001b[0m\u001b[1;33m\u001b[0m\u001b[1;33m\u001b[0m\u001b[0m\n\u001b[0;32m      4\u001b[0m \u001b[0mprint\u001b[0m\u001b[1;33m(\u001b[0m\u001b[1;34m\"le profit est : \"\u001b[0m\u001b[1;33m,\u001b[0m\u001b[0mprofit\u001b[0m\u001b[1;33m)\u001b[0m\u001b[1;33m\u001b[0m\u001b[1;33m\u001b[0m\u001b[0m\n",
      "\u001b[1;32m~\\anaconda3\\lib\\site-packages\\ipykernel\\kernelbase.py\u001b[0m in \u001b[0;36mraw_input\u001b[1;34m(self, prompt)\u001b[0m\n\u001b[0;32m    858\u001b[0m                 \u001b[1;34m\"raw_input was called, but this frontend does not support input requests.\"\u001b[0m\u001b[1;33m\u001b[0m\u001b[1;33m\u001b[0m\u001b[0m\n\u001b[0;32m    859\u001b[0m             )\n\u001b[1;32m--> 860\u001b[1;33m         return self._input_request(str(prompt),\n\u001b[0m\u001b[0;32m    861\u001b[0m             \u001b[0mself\u001b[0m\u001b[1;33m.\u001b[0m\u001b[0m_parent_ident\u001b[0m\u001b[1;33m,\u001b[0m\u001b[1;33m\u001b[0m\u001b[1;33m\u001b[0m\u001b[0m\n\u001b[0;32m    862\u001b[0m             \u001b[0mself\u001b[0m\u001b[1;33m.\u001b[0m\u001b[0m_parent_header\u001b[0m\u001b[1;33m,\u001b[0m\u001b[1;33m\u001b[0m\u001b[1;33m\u001b[0m\u001b[0m\n",
      "\u001b[1;32m~\\anaconda3\\lib\\site-packages\\ipykernel\\kernelbase.py\u001b[0m in \u001b[0;36m_input_request\u001b[1;34m(self, prompt, ident, parent, password)\u001b[0m\n\u001b[0;32m    902\u001b[0m             \u001b[1;32mexcept\u001b[0m \u001b[0mKeyboardInterrupt\u001b[0m\u001b[1;33m:\u001b[0m\u001b[1;33m\u001b[0m\u001b[1;33m\u001b[0m\u001b[0m\n\u001b[0;32m    903\u001b[0m                 \u001b[1;31m# re-raise KeyboardInterrupt, to truncate traceback\u001b[0m\u001b[1;33m\u001b[0m\u001b[1;33m\u001b[0m\u001b[1;33m\u001b[0m\u001b[0m\n\u001b[1;32m--> 904\u001b[1;33m                 \u001b[1;32mraise\u001b[0m \u001b[0mKeyboardInterrupt\u001b[0m\u001b[1;33m(\u001b[0m\u001b[1;34m\"Interrupted by user\"\u001b[0m\u001b[1;33m)\u001b[0m \u001b[1;32mfrom\u001b[0m \u001b[1;32mNone\u001b[0m\u001b[1;33m\u001b[0m\u001b[1;33m\u001b[0m\u001b[0m\n\u001b[0m\u001b[0;32m    905\u001b[0m             \u001b[1;32mexcept\u001b[0m \u001b[0mException\u001b[0m \u001b[1;32mas\u001b[0m \u001b[0me\u001b[0m\u001b[1;33m:\u001b[0m\u001b[1;33m\u001b[0m\u001b[1;33m\u001b[0m\u001b[0m\n\u001b[0;32m    906\u001b[0m                 \u001b[0mself\u001b[0m\u001b[1;33m.\u001b[0m\u001b[0mlog\u001b[0m\u001b[1;33m.\u001b[0m\u001b[0mwarning\u001b[0m\u001b[1;33m(\u001b[0m\u001b[1;34m\"Invalid Message:\"\u001b[0m\u001b[1;33m,\u001b[0m \u001b[0mexc_info\u001b[0m\u001b[1;33m=\u001b[0m\u001b[1;32mTrue\u001b[0m\u001b[1;33m)\u001b[0m\u001b[1;33m\u001b[0m\u001b[1;33m\u001b[0m\u001b[0m\n",
      "\u001b[1;31mKeyboardInterrupt\u001b[0m: Interrupted by user"
     ]
    }
   ],
   "source": [
    "prix_fab=int(input(\"quelle est le prix de fabrication : \"))\n",
    "prix_de_vente=int(input(\"quelle est le prix de vente : \"))\n",
    "profit = prix_vente-prix_fab \n",
    "print(\"le profit est : \",profit)\n"
   ]
  },
  {
   "cell_type": "markdown",
   "id": "57106eb8",
   "metadata": {},
   "source": [
    "# exo5"
   ]
  },
  {
   "cell_type": "code",
   "execution_count": 11,
   "id": "821e10d4",
   "metadata": {},
   "outputs": [
    {
     "name": "stdout",
     "output_type": "stream",
     "text": [
      "entrer l'an: 2004\n",
      "l' annee est une bissextille\n"
     ]
    }
   ],
   "source": [
    "an=int(input(\"entrer l'an: \"))\n",
    "if (an%4==0 and an%100!=0 or an%400==0):\n",
    "    print(\"l' annee est une bissextille\")\n",
    "else:\n",
    "     print(\"l'annee n'est pas bissextile\")\n"
   ]
  },
  {
   "cell_type": "markdown",
   "id": "ac72d3a3",
   "metadata": {},
   "source": [
    "# exo 6"
   ]
  },
  {
   "cell_type": "code",
   "execution_count": 21,
   "id": "d5902f9b",
   "metadata": {},
   "outputs": [
    {
     "name": "stdout",
     "output_type": "stream",
     "text": [
      "*\n",
      "**\n",
      "***\n",
      "****\n",
      "*****\n"
     ]
    }
   ],
   "source": [
    "def triangle(n):\n",
    "    for i in range(1,n+1,1):\n",
    "        print(\"*\"*i)\n",
    "triangle(5)"
   ]
  },
  {
   "cell_type": "markdown",
   "id": "53ba865b",
   "metadata": {},
   "source": [
    "# exo7"
   ]
  },
  {
   "cell_type": "code",
   "execution_count": 19,
   "id": "32be5cc4",
   "metadata": {},
   "outputs": [
    {
     "name": "stdout",
     "output_type": "stream",
     "text": [
      "entrer un mot: modou\n",
      "3 est le nombre de voyelle de modou\n"
     ]
    }
   ],
   "source": [
    "mo=input(\"entrer un mot: \")\n",
    "nv=0\n",
    "n=len(mo)\n",
    "for i in range(0,n):\n",
    "     if mo[i] in[\"a\",\"o\",\"u\",\"e\",\"i\"]:\n",
    "            nv=nv+1\n",
    "print(nv,\"est le nombre de voyelle de\",mo)    "
   ]
  },
  {
   "cell_type": "code",
   "execution_count": null,
   "id": "375a708d",
   "metadata": {},
   "outputs": [],
   "source": []
  },
  {
   "cell_type": "markdown",
   "id": "485629ba",
   "metadata": {},
   "source": [
    "# exo8"
   ]
  },
  {
   "cell_type": "code",
   "execution_count": 25,
   "id": "8c0df348",
   "metadata": {},
   "outputs": [
    {
     "name": "stdout",
     "output_type": "stream",
     "text": [
      "say hello: hello\n",
      "18 17 16\n",
      "15 14 13\n",
      "12 11 10\n",
      "9 8 7\n",
      "6 5 4\n",
      "3 2 1\n"
     ]
    }
   ],
   "source": [
    "input((\"say hello: \"))\n",
    "i=0\n",
    "while i<6:\n",
    "        i=i+1\n",
    "        if i==1:\n",
    "            a=18\n",
    "            b=17\n",
    "            c=16\n",
    "            print(a,b,c)\n",
    "        if i==2:\n",
    "            d=15\n",
    "            f=14\n",
    "            k=13\n",
    "            print(d,f,k)\n",
    "        if i==3:\n",
    "            g=12\n",
    "            l=11\n",
    "            b=10\n",
    "            print(g,l,b)\n",
    "        if i==4:\n",
    "            h=9\n",
    "            s=8\n",
    "            j=7\n",
    "            print(h,s,j)\n",
    "        if i==5:\n",
    "            m=6\n",
    "            e=5\n",
    "            q=4\n",
    "            print(m,e,q)\n",
    "        if i==6:\n",
    "            n=3\n",
    "            y=2\n",
    "            w=1\n",
    "            print(n,y,w)\n",
    "            \n",
    "\n",
    "\n",
    "    \n"
   ]
  },
  {
   "cell_type": "markdown",
   "id": "f96df870",
   "metadata": {},
   "source": [
    "# exo9"
   ]
  },
  {
   "cell_type": "code",
   "execution_count": 37,
   "id": "b78972f4",
   "metadata": {},
   "outputs": [
    {
     "name": "stdout",
     "output_type": "stream",
     "text": [
      "note 1: 3\n",
      "note 2: 4\n",
      "note 3: 5\n",
      "note 4: 6\n",
      "note 5: 7\n",
      "note 6: 8\n",
      "note 7: 9\n",
      "note 8: 12\n",
      "note 9: 13\n",
      "note 1o: 14\n",
      "68.4 est la moyenne\n",
      "14 est le maximale\n",
      "13 est le minimale\n"
     ]
    }
   ],
   "source": [
    "a=int(input(\"note 1: \"))\n",
    "b=int(input(\"note 2: \"))\n",
    "c=int(input(\"note 3: \"))\n",
    "d=int(input(\"note 4: \"))\n",
    "e=int(input(\"note 5: \"))\n",
    "f=int(input(\"note 6: \"))\n",
    "g=int(input(\"note 7: \"))\n",
    "h=int(input(\"note 8: \"))\n",
    "i=int(input(\"note 9: \"))\n",
    "j=int(input(\"note 1o: \"))\n",
    "max=0\n",
    "min=0      \n",
    "moy=a+b+c+d+e+f+g+h+i+j/10\n",
    "print(moy,\"est la moyenne\")\n",
    "      \n",
    "if a>b and a>c and a>d and a>e and a>f and a>g and a>h and a>i and a>j:\n",
    "    max=a\n",
    "else:\n",
    "    min=a\n",
    "if b>a and b>c and b>d and b>e and b>f and b>g and b>h and b>i and b>j:\n",
    "    max=b\n",
    "else:\n",
    "    min=b\n",
    "if c>a and c>b and c>d and c>e and c>f and c>g and c>h and c>i and c>j:\n",
    "    max=c\n",
    "else:\n",
    "    min=c\n",
    "if d>a and d>b and d>c and d>e and d>f and d>g and d>h and d>i and d>j:\n",
    "    max=d\n",
    "else:\n",
    "    min=d\n",
    "if e>a and e>b and e>c and e>d and e>f and e>g and e>h and e>i and e>j:\n",
    "    max=e\n",
    "else:\n",
    "    min=e\n",
    "if f>a and f>b and f>d and f>e and f>c and f>g and f>h and f>i and f>j:\n",
    "    max=f\n",
    "else:\n",
    "    min=f\n",
    "if g>a and g>b and g>d and g>e and g>f and g>c and g>h and g>i and g>j:\n",
    "    max=g\n",
    "else:\n",
    "    min=g\n",
    "if h>a and h>c and h>d and h>e and h>f and h>g and h>b and h>i and h>j:\n",
    "    max=h\n",
    "else:\n",
    "    min=h\n",
    "if i>a and i>b and i>c and i>d and i>e and i>f and i>g and i>h and i>j:\n",
    "    max=i\n",
    "else:\n",
    "    min=i\n",
    "if j>a and j>b and j>c and j>d and j>e and j>f and j>g and j>h and j>i:\n",
    "    max=j\n",
    "else:\n",
    "    min=j \n",
    "print(max,\"est le maximale\")\n",
    "print(min,\"est le minimale\")      "
   ]
  },
  {
   "cell_type": "markdown",
   "id": "4fb33292",
   "metadata": {},
   "source": [
    "# EXO 10"
   ]
  },
  {
   "cell_type": "code",
   "execution_count": 15,
   "id": "8e0032f3",
   "metadata": {},
   "outputs": [
    {
     "name": "stdout",
     "output_type": "stream",
     "text": [
      "est ce que vous etes adulte  oui\n",
      "yes!!!!\n"
     ]
    }
   ],
   "source": [
    "question=input(\"est ce que vous informaticien ?  \")\n",
    "if question == \"oui\":\n",
    "    print(\"yes!!!!\")\n",
    "else:\n",
    "    print(\"no!!!!!\")\n"
   ]
  },
  {
   "cell_type": "markdown",
   "id": "9caa4332",
   "metadata": {},
   "source": [
    "# EXO 11\n"
   ]
  },
  {
   "cell_type": "code",
   "execution_count": 28,
   "id": "049a7056",
   "metadata": {},
   "outputs": [
    {
     "name": "stdout",
     "output_type": "stream",
     "text": [
      "veillez entrer un nombre: 4\n",
      "essayer un nombre plus petit\n"
     ]
    }
   ],
   "source": [
    "n=int(input(\"veillez entrer un nombre: \"))\n",
    "n==6\n",
    "if i>n:\n",
    "        print(\"essayer un nombre plus petit\")\n",
    "if i<n:\n",
    "     print(\"essayer un nombre plus grand\")\n",
    "if i==n:\n",
    "    print(\"bravo vous avez trouver le nombre!\")\n",
    "    "
   ]
  },
  {
   "cell_type": "markdown",
   "id": "cbc8bb4c",
   "metadata": {},
   "source": [
    "# exo 12"
   ]
  },
  {
   "cell_type": "code",
   "execution_count": 31,
   "id": "2a08c2d1",
   "metadata": {},
   "outputs": [
    {
     "name": "stdout",
     "output_type": "stream",
     "text": [
      "donner la vqleur de a: 14\n",
      "donner la valeur de b: 4\n",
      "le pgcd de:  14 et 4  est donc:  2\n"
     ]
    }
   ],
   "source": [
    "a=eval(input(\"donner la vqleur de a: \"))\n",
    "b=eval(input(\"donner la valeur de b: \"))\n",
    "r=a%b\n",
    "print(\"le pgcd de: \",a,\"et\",b,\" est donc: \",r)"
   ]
  },
  {
   "cell_type": "markdown",
   "id": "c5077efb",
   "metadata": {},
   "source": [
    "# exo13"
   ]
  },
  {
   "cell_type": "code",
   "execution_count": 29,
   "id": "b1da628d",
   "metadata": {},
   "outputs": [
    {
     "name": "stdout",
     "output_type": "stream",
     "text": [
      "0 1 2 3 4 5 6 7 8 9 \n",
      "0 1 2 3 4 5 6 7 8 9 \n",
      "0 1 2 3 4 5 6 7 8 9 \n",
      "0 1 2 3 4 5 6 7 8 9 \n",
      "0 1 2 3 4 5 6 7 8 9 \n"
     ]
    }
   ],
   "source": [
    "for i in range(1,6):\n",
    "    for i in range(10):\n",
    "        print(i,end=\" \")\n",
    "    print()   "
   ]
  },
  {
   "cell_type": "markdown",
   "id": "3eeb758c",
   "metadata": {},
   "source": [
    "# exo 14\n"
   ]
  },
  {
   "cell_type": "code",
   "execution_count": 9,
   "id": "ec8a8a4a",
   "metadata": {},
   "outputs": [
    {
     "name": "stdout",
     "output_type": "stream",
     "text": [
      "entrer un entier5\n",
      "entrer un entier7\n",
      "entrer un entier3\n",
      "entrer un entier8\n",
      "la somme des 4 premier entiers est:  23\n"
     ]
    }
   ],
   "source": [
    "\n",
    "som=0\n",
    "for i in range(1,5):\n",
    "    a=int(input(\"entrer un entier\"))\n",
    "    som=som+a\n",
    "print(\"la somme des 4 premier entiers est: \",som)"
   ]
  },
  {
   "cell_type": "markdown",
   "id": "af5e3f06",
   "metadata": {},
   "source": [
    "# exo 15"
   ]
  },
  {
   "cell_type": "code",
   "execution_count": 10,
   "id": "ebc89e0c",
   "metadata": {},
   "outputs": [
    {
     "name": "stdout",
     "output_type": "stream",
     "text": [
      "la somme est 165\n"
     ]
    }
   ],
   "source": [
    "som=0\n",
    "for n in range(1,10,2):\n",
    "     som=som+(n**2)\n",
    "print(\"la somme est\",som)"
   ]
  },
  {
   "cell_type": "markdown",
   "id": "1e074fdb",
   "metadata": {},
   "source": [
    "# exo16"
   ]
  },
  {
   "cell_type": "code",
   "execution_count": 2,
   "id": "6736b995",
   "metadata": {},
   "outputs": [
    {
     "ename": "KeyboardInterrupt",
     "evalue": "",
     "output_type": "error",
     "traceback": [
      "\u001b[1;31m---------------------------------------------------------------------------\u001b[0m",
      "\u001b[1;31mKeyboardInterrupt\u001b[0m                         Traceback (most recent call last)",
      "\u001b[1;32m<ipython-input-2-9104ca223c86>\u001b[0m in \u001b[0;36m<module>\u001b[1;34m\u001b[0m\n\u001b[0;32m      1\u001b[0m \u001b[0mi\u001b[0m\u001b[1;33m=\u001b[0m\u001b[1;36m1\u001b[0m\u001b[1;33m\u001b[0m\u001b[1;33m\u001b[0m\u001b[0m\n\u001b[0;32m      2\u001b[0m \u001b[1;32mwhile\u001b[0m \u001b[1;36m1\u001b[0m\u001b[1;33m<\u001b[0m\u001b[1;36m150\u001b[0m\u001b[1;33m:\u001b[0m\u001b[1;33m\u001b[0m\u001b[1;33m\u001b[0m\u001b[0m\n\u001b[1;32m----> 3\u001b[1;33m       \u001b[0mi\u001b[0m\u001b[1;33m!=\u001b[0m\u001b[1;36m1\u001b[0m\u001b[1;33m\u001b[0m\u001b[1;33m\u001b[0m\u001b[0m\n\u001b[0m\u001b[0;32m      4\u001b[0m \u001b[1;32mif\u001b[0m\u001b[1;33m(\u001b[0m\u001b[1;36m1\u001b[0m\u001b[1;33m%\u001b[0m\u001b[1;36m7\u001b[0m\u001b[1;33m==\u001b[0m\u001b[1;36m0\u001b[0m\u001b[1;33m)\u001b[0m\u001b[1;33m:\u001b[0m\u001b[1;33m\u001b[0m\u001b[1;33m\u001b[0m\u001b[0m\n\u001b[0;32m      5\u001b[0m      \u001b[0mprint\u001b[0m\u001b[1;33m(\u001b[0m\u001b[0mi\u001b[0m\u001b[1;33m)\u001b[0m\u001b[1;33m\u001b[0m\u001b[1;33m\u001b[0m\u001b[0m\n",
      "\u001b[1;31mKeyboardInterrupt\u001b[0m: "
     ]
    }
   ],
   "source": [
    "i=1\n",
    "while 1<150:\n",
    "      i!=1\n",
    "if(1%7==0):\n",
    "     print(i)"
   ]
  },
  {
   "cell_type": "markdown",
   "id": "ce27b0b0",
   "metadata": {},
   "source": [
    "# exo 17\n"
   ]
  },
  {
   "cell_type": "code",
   "execution_count": 3,
   "id": "3844e7c7",
   "metadata": {},
   "outputs": [
    {
     "name": "stdout",
     "output_type": "stream",
     "text": [
      "32\n"
     ]
    }
   ],
   "source": [
    "for i in range(50):\n",
    "    if i**2>1000:\n",
    "        print(i)\n",
    "        break"
   ]
  },
  {
   "cell_type": "markdown",
   "id": "b431843b",
   "metadata": {},
   "source": [
    "# exo 18"
   ]
  },
  {
   "cell_type": "code",
   "execution_count": 5,
   "id": "3f5426ad",
   "metadata": {},
   "outputs": [
    {
     "name": "stdout",
     "output_type": "stream",
     "text": [
      "entrer un nombre100\n",
      "100 n'est pas un nombre armstrong\n",
      "100 n'est pas un nombre armstrong\n",
      "100 n'est pas un nombre armstrong\n"
     ]
    }
   ],
   "source": [
    "nbr=int(input(\"entrer un nombre\"))\n",
    "s=0\n",
    "tmp=nbr\n",
    "while tmp>0:\n",
    "        d=tmp % 10\n",
    "        s+=d**3\n",
    "        tmp//=10\n",
    "        if nbr==s:\n",
    "            print(nbr,\"est un nombre armstrong\")\n",
    "        else:\n",
    "            print(nbr,\"n'est pas un nombre armstrong\")\n",
    "        \n",
    "    \n",
    "    "
   ]
  },
  {
   "cell_type": "markdown",
   "id": "0d9907fb",
   "metadata": {},
   "source": [
    "# exo 19"
   ]
  },
  {
   "cell_type": "code",
   "execution_count": 6,
   "id": "5c593a77",
   "metadata": {},
   "outputs": [
    {
     "name": "stdout",
     "output_type": "stream",
     "text": [
      "donner un nombre4\n",
      "4 est parfait\n",
      "4 est superieur\n"
     ]
    }
   ],
   "source": [
    "n=int(input(\"donner un nombre\"))\n",
    "if((n==0)):\n",
    "    print(n,\"est nul\")\n",
    "elif(n%2==0):\n",
    "    print(n,\"est parfait\")\n",
    "else:\n",
    "    print(n,\"n'est pas parfait\")\n",
    "if(n<0):\n",
    "    print(n,\"est inferieur\")\n",
    "elif(n>0):\n",
    "    print(n,\"est superieur\")\n"
   ]
  },
  {
   "cell_type": "markdown",
   "id": "cdca419a",
   "metadata": {},
   "source": [
    "# exo 20"
   ]
  },
  {
   "cell_type": "code",
   "execution_count": 8,
   "id": "197b5741",
   "metadata": {},
   "outputs": [
    {
     "name": "stdout",
     "output_type": "stream",
     "text": [
      "donner le 1e nombre: 12\n",
      "donner le 2e nombre: 17\n",
      "le ppcm de  12 et  17  est multiple\n"
     ]
    },
    {
     "ename": "KeyboardInterrupt",
     "evalue": "",
     "output_type": "error",
     "traceback": [
      "\u001b[1;31m---------------------------------------------------------------------------\u001b[0m",
      "\u001b[1;31mKeyboardInterrupt\u001b[0m                         Traceback (most recent call last)",
      "\u001b[1;32m<ipython-input-8-d78c9c0b2aa4>\u001b[0m in \u001b[0;36m<module>\u001b[1;34m\u001b[0m\n\u001b[0;32m      6\u001b[0m     \u001b[0mpg\u001b[0m\u001b[1;33m=\u001b[0m\u001b[0mb\u001b[0m\u001b[1;33m\u001b[0m\u001b[1;33m\u001b[0m\u001b[0m\n\u001b[0;32m      7\u001b[0m     \u001b[0mi\u001b[0m\u001b[1;33m=\u001b[0m\u001b[0ma\u001b[0m\u001b[1;33m*\u001b[0m\u001b[0mb\u001b[0m\u001b[1;33m\u001b[0m\u001b[1;33m\u001b[0m\u001b[0m\n\u001b[1;32m----> 8\u001b[1;33m \u001b[1;32mwhile\u001b[0m \u001b[0mi\u001b[0m\u001b[1;33m>=\u001b[0m\u001b[0mpg\u001b[0m\u001b[1;33m:\u001b[0m\u001b[1;33m\u001b[0m\u001b[1;33m\u001b[0m\u001b[0m\n\u001b[0m\u001b[0;32m      9\u001b[0m     \u001b[1;32mif\u001b[0m \u001b[0mi\u001b[0m\u001b[1;33m%\u001b[0m\u001b[0ma\u001b[0m\u001b[1;33m==\u001b[0m\u001b[1;36m0\u001b[0m  \u001b[1;32mand\u001b[0m \u001b[0mi\u001b[0m\u001b[1;33m%\u001b[0m\u001b[0mb\u001b[0m\u001b[1;33m==\u001b[0m\u001b[1;36m0\u001b[0m\u001b[1;33m:\u001b[0m\u001b[1;33m\u001b[0m\u001b[1;33m\u001b[0m\u001b[0m\n\u001b[0;32m     10\u001b[0m         \u001b[0mi\u001b[0m\u001b[1;33m=\u001b[0m\u001b[0mi\u001b[0m\u001b[1;33m-\u001b[0m\u001b[1;36m1\u001b[0m\u001b[1;33m\u001b[0m\u001b[1;33m\u001b[0m\u001b[0m\n",
      "\u001b[1;31mKeyboardInterrupt\u001b[0m: "
     ]
    }
   ],
   "source": [
    "a=int(input(\"donner le 1e nombre: \"))\n",
    "b=int(input(\"donner le 2e nombre: \"))\n",
    "if a>b:\n",
    "    pg=a\n",
    "else:\n",
    "    pg=b\n",
    "    i=a*b\n",
    "while i>=pg:\n",
    "    if i%a==0  and i%b==0:\n",
    "        i=i-1\n",
    "        print(\"le ppcm de \",a,\"et \",b,\" est multiple\")\n",
    "        \n",
    "\n"
   ]
  },
  {
   "cell_type": "code",
   "execution_count": null,
   "id": "7728c18a",
   "metadata": {},
   "outputs": [],
   "source": [
    "https://github.com/DIOPMOMO/apd2-git2JILK"
   ]
  }
 ],
 "metadata": {
  "kernelspec": {
   "display_name": "Python 3",
   "language": "python",
   "name": "python3"
  },
  "language_info": {
   "codemirror_mode": {
    "name": "ipython",
    "version": 3
   },
   "file_extension": ".py",
   "mimetype": "text/x-python",
   "name": "python",
   "nbconvert_exporter": "python",
   "pygments_lexer": "ipython3",
   "version": "3.8.8"
  }
 },
 "nbformat": 4,
 "nbformat_minor": 5
}
