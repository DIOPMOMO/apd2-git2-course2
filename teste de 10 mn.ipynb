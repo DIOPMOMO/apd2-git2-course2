{
 "cells": [
  {
   "cell_type": "code",
   "execution_count": 9,
   "id": "5e9e9208",
   "metadata": {},
   "outputs": [],
   "source": [
    "def f(x):\n",
    "    som=0\n",
    "    for i in range(1,12):\n",
    "        som=(x*x+i)/i*i\n",
    "    print(som)"
   ]
  },
  {
   "cell_type": "code",
   "execution_count": 11,
   "id": "38dd673f",
   "metadata": {},
   "outputs": [
    {
     "data": {
      "text/plain": [
       "<function __main__.f(x)>"
      ]
     },
     "execution_count": 11,
     "metadata": {},
     "output_type": "execute_result"
    }
   ],
   "source": [
    "f"
   ]
  },
  {
   "cell_type": "code",
   "execution_count": 53,
   "id": "014c6ec5",
   "metadata": {},
   "outputs": [
    {
     "name": "stdout",
     "output_type": "stream",
     "text": [
      "sidy va a l ecole\n",
      "e\n",
      "sidy\n",
      "Adama va a l ecole\n"
     ]
    }
   ],
   "source": [
    "c=\"sidy va a l ecole\"\n",
    "print(c)\n",
    "print(c[16:17])\n",
    "print(c[:4])\n",
    "print( c.replace(\"sidy\",\"Adama\"))"
   ]
  },
  {
   "cell_type": "code",
   "execution_count": 26,
   "id": "884df74e",
   "metadata": {},
   "outputs": [
    {
     "name": "stdout",
     "output_type": "stream",
     "text": [
      "('je', 'vais', 'reussir', 'ce', 'cours', '...', 'yes', 'i', 'can')\n"
     ]
    }
   ],
   "source": [
    "s=\"je\",\"vais\",\"reussir\",\"ce\",\"cours\",\"...\",\"yes\",\"i\",\"can\"\n",
    "print(s)"
   ]
  },
  {
   "cell_type": "code",
   "execution_count": 40,
   "id": "f27dd3b3",
   "metadata": {},
   "outputs": [
    {
     "name": "stdout",
     "output_type": "stream",
     "text": [
      "je\n",
      "j\n",
      "e\n",
      "vais\n",
      "v\n",
      "a\n",
      "i\n",
      "s\n",
      "reussir\n",
      "r\n",
      "e\n",
      "u\n",
      "s\n",
      "s\n",
      "i\n",
      "r\n",
      "ce\n",
      "c\n",
      "e\n",
      "cour\n",
      "c\n",
      "o\n",
      "u\n",
      "r\n",
      "...\n",
      ".\n",
      ".\n",
      ".\n",
      "yes\n",
      "y\n",
      "e\n",
      "s\n",
      "i\n",
      "i\n",
      "can\n",
      "c\n",
      "a\n",
      "n\n"
     ]
    }
   ],
   "source": [
    "s=\"je vais reussir ce cour ... yes i can\"\n",
    "for i in (s.split()):\n",
    "    print(i)\n",
    "    for j in i:\n",
    "        print(j)\n",
    "         "
   ]
  },
  {
   "cell_type": "code",
   "execution_count": 39,
   "id": "27003056",
   "metadata": {},
   "outputs": [
    {
     "name": "stdout",
     "output_type": "stream",
     "text": [
      "yes\n"
     ]
    }
   ],
   "source": [
    "s=\"je vais reussir ce cour ... yes i can\"\n",
    "if\"ce\" in s:\n",
    "    print(\"yes\")"
   ]
  },
  {
   "cell_type": "code",
   "execution_count": 41,
   "id": "bc287daa",
   "metadata": {},
   "outputs": [
    {
     "name": "stdout",
     "output_type": "stream",
     "text": [
      "('Mr', ('pape', 'ibrahima'))\n"
     ]
    }
   ],
   "source": [
    "x=(\"pape\",\"ibrahima\")\n",
    "y=(\"Mr\",x)\n",
    "print(y)"
   ]
  },
  {
   "cell_type": "code",
   "execution_count": 66,
   "id": "dbfaa8f9",
   "metadata": {},
   "outputs": [
    {
     "ename": "SyntaxError",
     "evalue": "invalid syntax (<ipython-input-66-b73e0ed7b7b7>, line 5)",
     "output_type": "error",
     "traceback": [
      "\u001b[1;36m  File \u001b[1;32m\"<ipython-input-66-b73e0ed7b7b7>\"\u001b[1;36m, line \u001b[1;32m5\u001b[0m\n\u001b[1;33m    print(app)\u001b[0m\n\u001b[1;37m    ^\u001b[0m\n\u001b[1;31mSyntaxError\u001b[0m\u001b[1;31m:\u001b[0m invalid syntax\n"
     ]
    }
   ],
   "source": [
    "app=(\"FATOU\",\"MODOU\",\"cheikh\",\"ablaye\",\"MOSSAN\")\n",
    "print(app)\n",
    "print( app[0:-4]\n",
    "(app[0]=\"papa\")\n",
    "      print(app)"
   ]
  },
  {
   "cell_type": "code",
   "execution_count": 67,
   "id": "1787cab4",
   "metadata": {},
   "outputs": [
    {
     "name": "stdout",
     "output_type": "stream",
     "text": [
      "('FATOU', 'MODOU', 'cheikh', 'ablaye', 'MOSSAN')\n"
     ]
    },
    {
     "ename": "AttributeError",
     "evalue": "'tuple' object has no attribute 'replace'",
     "output_type": "error",
     "traceback": [
      "\u001b[1;31m---------------------------------------------------------------------------\u001b[0m",
      "\u001b[1;31mAttributeError\u001b[0m                            Traceback (most recent call last)",
      "\u001b[1;32m<ipython-input-67-110e77d16c0d>\u001b[0m in \u001b[0;36m<module>\u001b[1;34m\u001b[0m\n\u001b[0;32m      1\u001b[0m \u001b[0mapp\u001b[0m\u001b[1;33m=\u001b[0m\u001b[1;33m(\u001b[0m\u001b[1;34m\"FATOU\"\u001b[0m\u001b[1;33m,\u001b[0m\u001b[1;34m\"MODOU\"\u001b[0m\u001b[1;33m,\u001b[0m\u001b[1;34m\"cheikh\"\u001b[0m\u001b[1;33m,\u001b[0m\u001b[1;34m\"ablaye\"\u001b[0m\u001b[1;33m,\u001b[0m\u001b[1;34m\"MOSSAN\"\u001b[0m\u001b[1;33m)\u001b[0m\u001b[1;33m\u001b[0m\u001b[1;33m\u001b[0m\u001b[0m\n\u001b[0;32m      2\u001b[0m \u001b[0mprint\u001b[0m\u001b[1;33m(\u001b[0m\u001b[0mapp\u001b[0m\u001b[1;33m)\u001b[0m\u001b[1;33m\u001b[0m\u001b[1;33m\u001b[0m\u001b[0m\n\u001b[1;32m----> 3\u001b[1;33m \u001b[1;33m(\u001b[0m\u001b[0mapp\u001b[0m\u001b[1;33m.\u001b[0m\u001b[0mreplace\u001b[0m\u001b[1;33m(\u001b[0m\u001b[1;34m\"mon papa\"\u001b[0m\u001b[1;33m)\u001b[0m\u001b[1;33m)\u001b[0m\u001b[1;33m\u001b[0m\u001b[1;33m\u001b[0m\u001b[0m\n\u001b[0m\u001b[0;32m      4\u001b[0m \u001b[0mprint\u001b[0m\u001b[1;33m(\u001b[0m\u001b[0mapp\u001b[0m\u001b[1;33m)\u001b[0m\u001b[1;33m\u001b[0m\u001b[1;33m\u001b[0m\u001b[0m\n",
      "\u001b[1;31mAttributeError\u001b[0m: 'tuple' object has no attribute 'replace'"
     ]
    }
   ],
   "source": [
    "app=(\"FATOU\",\"MODOU\",\"cheikh\",\"ablaye\",\"MOSSAN\")\n",
    "print(app)\n",
    "(app.replace(\"mon papa\"))\n",
    "print(app)"
   ]
  },
  {
   "cell_type": "code",
   "execution_count": null,
   "id": "5faf3c65",
   "metadata": {},
   "outputs": [],
   "source": []
  }
 ],
 "metadata": {
  "kernelspec": {
   "display_name": "Python 3",
   "language": "python",
   "name": "python3"
  },
  "language_info": {
   "codemirror_mode": {
    "name": "ipython",
    "version": 3
   },
   "file_extension": ".py",
   "mimetype": "text/x-python",
   "name": "python",
   "nbconvert_exporter": "python",
   "pygments_lexer": "ipython3",
   "version": "3.8.8"
  }
 },
 "nbformat": 4,
 "nbformat_minor": 5
}
