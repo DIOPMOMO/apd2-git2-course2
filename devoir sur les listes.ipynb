{
 "cells": [
  {
   "cell_type": "markdown",
   "id": "64f68922",
   "metadata": {},
   "source": [
    "# EXERCICE 1"
   ]
  },
  {
   "cell_type": "code",
   "execution_count": 5,
   "id": "603038ad",
   "metadata": {},
   "outputs": [
    {
     "name": "stdout",
     "output_type": "stream",
     "text": [
      "(0, 'les')\n",
      "(1, 'apprenants')\n",
      "(2, 'de')\n",
      "(3, 'APD')\n",
      "(4, 'sont')\n",
      "(5, 'inteligente')\n"
     ]
    },
    {
     "data": {
      "text/plain": [
       "['apprenants', 'de', 'APD', 'sont', 'inteligente']"
      ]
     },
     "execution_count": 5,
     "metadata": {},
     "output_type": "execute_result"
    }
   ],
   "source": [
    "list = [\"les\",\"apprenants\",\"de\",\"APD\",\"sont\",\"inteligente\"]\n",
    "for lettre in enumerate(list):\n",
    "    print(lettre)\n",
    "list[-5:]"
   ]
  },
  {
   "cell_type": "markdown",
   "id": "be76c597",
   "metadata": {},
   "source": [
    "# EXERCICE 2"
   ]
  },
  {
   "cell_type": "code",
   "execution_count": 7,
   "id": "23d0bd69",
   "metadata": {},
   "outputs": [
    {
     "name": "stdout",
     "output_type": "stream",
     "text": [
      "le nombre de voyelle presents dans etre responsable est  une devoir est 12\n"
     ]
    }
   ],
   "source": [
    "v=(\"etre responsable est  une devoir\")\n",
    "n=len(v)\n",
    "nbrv=0\n",
    "for i in range (0,n):\n",
    "    if v[i]in (\"a\",\"o\",\"e\",\"u\",\"i\",\"y\"):\n",
    "        nbrv+=1\n",
    "print(\"le nombre de voyelle presents dans\",v,\"est\",nbrv,)"
   ]
  },
  {
   "cell_type": "markdown",
   "id": "b6bc7c89",
   "metadata": {},
   "source": [
    "# EXERCICE 3"
   ]
  },
  {
   "cell_type": "code",
   "execution_count": 15,
   "id": "41113fe9",
   "metadata": {},
   "outputs": [
    {
     "name": "stdout",
     "output_type": "stream",
     "text": [
      "[['l impossible n est pas APD'], 'GDE', 'DEV', 'RSIOT']\n"
     ]
    }
   ],
   "source": [
    "filiere=[\"APD\",\"GDE\",\"DEV\",\"RSIOT\"]\n",
    "for i in filiere:\n",
    "    filiere [0] = [\"l impossible n est pas APD\"]\n",
    "print(filiere)"
   ]
  },
  {
   "cell_type": "markdown",
   "id": "6824dff8",
   "metadata": {},
   "source": [
    "# EXERCICE 4"
   ]
  },
  {
   "cell_type": "code",
   "execution_count": 22,
   "id": "56666d0f",
   "metadata": {},
   "outputs": [
    {
     "ename": "TypeError",
     "evalue": "'function' object is not subscriptable",
     "output_type": "error",
     "traceback": [
      "\u001b[1;31m---------------------------------------------------------------------------\u001b[0m",
      "\u001b[1;31mTypeError\u001b[0m                                 Traceback (most recent call last)",
      "\u001b[1;32m<ipython-input-22-8cd974124b3e>\u001b[0m in \u001b[0;36m<module>\u001b[1;34m\u001b[0m\n\u001b[0;32m     10\u001b[0m         \u001b[0mprint\u001b[0m\u001b[1;33m(\u001b[0m\u001b[1;34m\"la liste des nombres impair est: \"\u001b[0m\u001b[1;33m,\u001b[0m\u001b[0mimpair\u001b[0m\u001b[1;33m)\u001b[0m\u001b[1;33m\u001b[0m\u001b[1;33m\u001b[0m\u001b[0m\n\u001b[0;32m     11\u001b[0m \u001b[0ml\u001b[0m\u001b[1;33m=\u001b[0m\u001b[1;33m[\u001b[0m\u001b[1;36m1\u001b[0m\u001b[1;33m,\u001b[0m\u001b[1;36m2\u001b[0m\u001b[1;33m,\u001b[0m\u001b[1;36m3\u001b[0m\u001b[1;33m,\u001b[0m\u001b[1;36m4\u001b[0m\u001b[1;33m,\u001b[0m\u001b[1;36m5\u001b[0m\u001b[1;33m,\u001b[0m\u001b[1;36m6\u001b[0m\u001b[1;33m,\u001b[0m\u001b[1;36m7\u001b[0m\u001b[1;33m,\u001b[0m\u001b[1;36m8\u001b[0m\u001b[1;33m,\u001b[0m\u001b[1;36m9\u001b[0m\u001b[1;33m,\u001b[0m\u001b[1;36m10\u001b[0m\u001b[1;33m]\u001b[0m\u001b[1;33m\u001b[0m\u001b[1;33m\u001b[0m\u001b[0m\n\u001b[1;32m---> 12\u001b[1;33m \u001b[0mprint\u001b[0m \u001b[1;33m(\u001b[0m\u001b[0mextract\u001b[0m\u001b[1;33m[\u001b[0m\u001b[0ml\u001b[0m\u001b[1;33m]\u001b[0m\u001b[1;33m)\u001b[0m\u001b[1;33m\u001b[0m\u001b[1;33m\u001b[0m\u001b[0m\n\u001b[0m\u001b[0;32m     13\u001b[0m \u001b[1;33m\u001b[0m\u001b[0m\n",
      "\u001b[1;31mTypeError\u001b[0m: 'function' object is not subscriptable"
     ]
    }
   ],
   "source": [
    "def extract(n):\n",
    "    pair=[]\n",
    "    impair=[]\n",
    "    for a in i:\n",
    "        if a % 2==0:\n",
    "            pair.append(a)\n",
    "        else:\n",
    "            impair.append(a)\n",
    "        print(\"la liste des nombres pair est:  \",pair)\n",
    "        print(\"la liste des nombres impair est: \",impair)\n",
    "n=[1,2,3,4,5,6,7,8,9,10]\n",
    "print (extract[n])\n",
    "    "
   ]
  },
  {
   "cell_type": "markdown",
   "id": "1535b5db",
   "metadata": {},
   "source": [
    "# EXERCICE 5"
   ]
  },
  {
   "cell_type": "code",
   "execution_count": 23,
   "id": "49a193c2",
   "metadata": {},
   "outputs": [
    {
     "name": "stdout",
     "output_type": "stream",
     "text": [
      "['Makhou', 'Abdou', 'Karim', 'Djiby', 'Pape', 'Fatou', 'Khadi', 'Mami', 'Ami', 'Daba']\n"
     ]
    }
   ],
   "source": [
    "homme_list=[\"Makhou\",\"Abdou\",\"Karim\",\"Djiby\",\"Pape\"]\n",
    "femme_list=[\"Fatou\",\"Khadi\",\"Mami\",\"Ami\",\"Daba\"]\n",
    "som=homme_list + femme_list\n",
    "print(som)"
   ]
  },
  {
   "cell_type": "markdown",
   "id": "416f5197",
   "metadata": {},
   "source": [
    "# EXERCICE 6"
   ]
  },
  {
   "cell_type": "code",
   "execution_count": 27,
   "id": "02dafeee",
   "metadata": {},
   "outputs": [
    {
     "ename": "SyntaxError",
     "evalue": "invalid syntax (<ipython-input-27-f8ed8730b9e2>, line 3)",
     "output_type": "error",
     "traceback": [
      "\u001b[1;36m  File \u001b[1;32m\"<ipython-input-27-f8ed8730b9e2>\"\u001b[1;36m, line \u001b[1;32m3\u001b[0m\n\u001b[1;33m    minimum = (list0):\u001b[0m\n\u001b[1;37m                     ^\u001b[0m\n\u001b[1;31mSyntaxError\u001b[0m\u001b[1;31m:\u001b[0m invalid syntax\n"
     ]
    }
   ],
   "source": [
    "liste=[20,10,2,9,40,39]\n",
    "def minlist(liste):\n",
    "    minimum = (list0):\n",
    "        if x < minimum:\n",
    "            minimum=x\n",
    "            return minimum\n",
    "print(\"le plus petit element est:\",minlist(liste))\n"
   ]
  },
  {
   "cell_type": "markdown",
   "id": "872cd67d",
   "metadata": {},
   "source": [
    "# EXERCICE 7"
   ]
  },
  {
   "cell_type": "code",
   "execution_count": 10,
   "id": "c4bc6c18",
   "metadata": {},
   "outputs": [
    {
     "name": "stdout",
     "output_type": "stream",
     "text": [
      "1\n"
     ]
    }
   ],
   "source": [
    "def element():\n",
    "    min(element)\n",
    "element=[23,1,13,25,7]\n",
    "print(min(element))"
   ]
  },
  {
   "cell_type": "markdown",
   "id": "dc4f6243",
   "metadata": {},
   "source": [
    "# EXERCICE 8"
   ]
  },
  {
   "cell_type": "code",
   "execution_count": 29,
   "id": "e2bc58f2",
   "metadata": {},
   "outputs": [
    {
     "name": "stdout",
     "output_type": "stream",
     "text": [
      "7\n",
      "14\n",
      "21\n",
      "28\n",
      "35\n",
      "42\n",
      "49\n",
      "56\n",
      "63\n",
      "70\n",
      "77\n",
      "84\n",
      "91\n",
      "98\n"
     ]
    }
   ],
   "source": [
    "i=1\n",
    "while i<100:\n",
    "    i=i+1\n",
    "    if i%7==0:\n",
    "        print(i)"
   ]
  },
  {
   "cell_type": "markdown",
   "id": "92363099",
   "metadata": {},
   "source": [
    "# EXERCICE 9"
   ]
  },
  {
   "cell_type": "code",
   "execution_count": 31,
   "id": "3d5e2ae4",
   "metadata": {},
   "outputs": [
    {
     "name": "stdout",
     "output_type": "stream",
     "text": [
      "2\n"
     ]
    }
   ],
   "source": [
    "M=\"merci Mr Niang\"\n",
    "ni=0\n",
    "for i in M :\n",
    "    if i==\"i\":\n",
    "        ni=ni+1\n",
    "print(ni)"
   ]
  },
  {
   "cell_type": "markdown",
   "id": "a6d33356",
   "metadata": {},
   "source": [
    "# EXERCICE 10"
   ]
  },
  {
   "cell_type": "code",
   "execution_count": 13,
   "id": "ea372a75",
   "metadata": {},
   "outputs": [
    {
     "name": "stdout",
     "output_type": "stream",
     "text": [
      "['devoir', 'a', 'rendre', 'lundi']\n"
     ]
    }
   ],
   "source": [
    "b=\"devoir a rendre lundi\"\n",
    "print(b.split())ss"
   ]
  },
  {
   "cell_type": "code",
   "execution_count": null,
   "id": "0787efef",
   "metadata": {},
   "outputs": [],
   "source": []
  }
 ],
 "metadata": {
  "kernelspec": {
   "display_name": "Python 3",
   "language": "python",
   "name": "python3"
  },
  "language_info": {
   "codemirror_mode": {
    "name": "ipython",
    "version": 3
   },
   "file_extension": ".py",
   "mimetype": "text/x-python",
   "name": "python",
   "nbconvert_exporter": "python",
   "pygments_lexer": "ipython3",
   "version": "3.8.8"
  }
 },
 "nbformat": 4,
 "nbformat_minor": 5
}
